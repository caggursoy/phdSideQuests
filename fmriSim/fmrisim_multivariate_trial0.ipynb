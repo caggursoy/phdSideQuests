{
 "cells": [
  {
   "cell_type": "code",
   "execution_count": 1,
   "metadata": {},
   "outputs": [],
   "source": [
    "%matplotlib notebook\n",
    "\n",
    "from pathlib import Path\n",
    "from brainiak.utils import fmrisim\n",
    "import nibabel\n",
    "import numpy as np\n",
    "import matplotlib.pyplot as plt\n",
    "import scipy.ndimage as ndimage\n",
    "import scipy.spatial.distance as sp_distance\n",
    "import sklearn.manifold as manifold\n",
    "import scipy.stats as stats\n",
    "import sklearn.model_selection\n",
    "import sklearn.svm"
   ]
  },
  {
   "cell_type": "code",
   "execution_count": 5,
   "metadata": {},
   "outputs": [
    {
     "name": "stdout",
     "output_type": "stream",
     "text": [
      "/home/klips/Documents/repos/phdSideQuests/fmriSim\n"
     ]
    }
   ],
   "source": [
    "home = str(Path().absolute())\n",
    "nii = nibabel.load(home + '/Corr_MVPA/Participant_01_rest_run01.nii')\n",
    "volume = nii.get_fdata()"
   ]
  },
  {
   "cell_type": "code",
   "execution_count": 6,
   "metadata": {},
   "outputs": [
    {
     "name": "stdout",
     "output_type": "stream",
     "text": [
      "(64, 64, 27, 294)\n"
     ]
    }
   ],
   "source": [
    "dim = volume.shape  # What is the size of the volume\n",
    "dimsize = nii.header.get_zooms()  # Get voxel dimensions from the nifti header\n",
    "tr = dimsize[3]\n",
    "if tr > 100:  # If high then these values are likely in ms\n",
    "    tr /= 1000\n",
    "print(dim)"
   ]
  },
  {
   "cell_type": "code",
   "execution_count": 7,
   "metadata": {},
   "outputs": [],
   "source": [
    "mask, template = fmrisim.mask_brain(volume=volume, \n",
    "                                    mask_self=True,\n",
    "                                    )"
   ]
  },
  {
   "cell_type": "code",
   "execution_count": 8,
   "metadata": {},
   "outputs": [
    {
     "name": "stderr",
     "output_type": "stream",
     "text": [
      "/home/klips/anaconda3/envs/venv/lib/python3.7/site-packages/statsmodels/tsa/kalmanf/kalmanfilter.py:221: RuntimeWarning: divide by zero encountered in true_divide\n",
      "  Z_mat, R_mat, T_mat)\n",
      "/home/klips/anaconda3/envs/venv/lib/python3.7/site-packages/statsmodels/tsa/tsatools.py:668: RuntimeWarning: invalid value encountered in true_divide\n",
      "  newparams = ((1-np.exp(-params))/(1+np.exp(-params))).copy()\n",
      "/home/klips/anaconda3/envs/venv/lib/python3.7/site-packages/statsmodels/tsa/tsatools.py:669: RuntimeWarning: invalid value encountered in true_divide\n",
      "  tmp = ((1-np.exp(-params))/(1+np.exp(-params))).copy()\n"
     ]
    }
   ],
   "source": [
    "# Calculate the noise parameters from the data. Set it up to be matched.\n",
    "noise_dict = {'voxel_size': [dimsize[0], dimsize[1], dimsize[2]], 'matched': 1}\n",
    "noise_dict = fmrisim.calc_noise(volume=volume,\n",
    "                                mask=mask,\n",
    "                                template=template,\n",
    "                                noise_dict=noise_dict,\n",
    "                                )"
   ]
  },
  {
   "cell_type": "code",
   "execution_count": 9,
   "metadata": {},
   "outputs": [
    {
     "name": "stdout",
     "output_type": "stream",
     "text": [
      "Noise parameters of the data were estimated as follows:\n",
      "SNR: 23.175648200023815\n",
      "SFNR: 70.71711648848593\n",
      "FWHM: 5.654532496050227\n"
     ]
    }
   ],
   "source": [
    "print('Noise parameters of the data were estimated as follows:')\n",
    "print('SNR: ' + str(noise_dict['snr']))\n",
    "print('SFNR: ' + str(noise_dict['sfnr']))\n",
    "print('FWHM: ' + str(noise_dict['fwhm']))"
   ]
  },
  {
   "cell_type": "code",
   "execution_count": null,
   "metadata": {},
   "outputs": [],
   "source": []
  }
 ],
 "metadata": {
  "kernelspec": {
   "display_name": "Python 3",
   "language": "python",
   "name": "python3"
  },
  "language_info": {
   "codemirror_mode": {
    "name": "ipython",
    "version": 3
   },
   "file_extension": ".py",
   "mimetype": "text/x-python",
   "name": "python",
   "nbconvert_exporter": "python",
   "pygments_lexer": "ipython3",
   "version": "3.7.6"
  }
 },
 "nbformat": 4,
 "nbformat_minor": 2
}
